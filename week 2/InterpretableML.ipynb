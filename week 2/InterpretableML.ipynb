{
 "cells": [
  {
   "cell_type": "markdown",
   "metadata": {},
   "source": [
    "Google Colab Link : *https://colab.research.google.com/drive/1jNkhrvutO3Bm282cdK854f6EYSMm8ISX#scrollTo=iV9x7bHw5QGe*"
   ]
  },
  {
   "cell_type": "markdown",
   "metadata": {},
   "source": [
    "To run code with the dataset, you will require to download the dataset from the link below:\n",
    "\n",
    "**https://www.kaggle.com/datasets/blastchar/telco-customer-churn/code**\n",
    "\n",
    "Then upload to the Google Drive and import the colab module to run the code.\n",
    "\n"
   ]
  }
 ],
 "metadata": {
  "language_info": {
   "name": "python"
  }
 },
 "nbformat": 4,
 "nbformat_minor": 2
}
